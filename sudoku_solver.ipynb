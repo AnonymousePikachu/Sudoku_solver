{
 "cells": [
  {
   "attachments": {},
   "cell_type": "markdown",
   "metadata": {},
   "source": [
    "# Sudoku Solver\n",
    "This notebook includes 3 implementations of the Sudoku solver code from 3 different input soruce\n",
    "1. Direct input through the notebook \n",
    "2. Text file from [dimitri](https://github.com/dimitri/sudoku/blob/master/sudoku.txt)\n",
    "3. CSV file from [kaggle](https://www.kaggle.com/datasets/rohanrao/sudoku) "
   ]
  },
  {
   "attachments": {},
   "cell_type": "markdown",
   "metadata": {},
   "source": [
    "## Inputting the sudoku to be solved\n",
    "- Feature to be added -> Make it optional to accept the sudoku to be solved through a txt file in the right format\n",
    "- Make exceptions possible"
   ]
  },
  {
   "cell_type": "code",
   "execution_count": 205,
   "metadata": {},
   "outputs": [],
   "source": [
    "# Defining the Sudoku to be solved\n",
    "to_solve =[[5 ,3 ,0, 0, 7, 0, 0, 0, 0],\n",
    "        [6 ,0 ,0 ,1 ,9 ,5 ,0 ,0 ,0],\n",
    "        [0 ,9 ,8 ,0 ,0 ,0 ,0 ,6 ,0],\n",
    "        [8 ,0 ,0 ,0 ,6 ,0 ,0 ,0 ,3],\n",
    "        [4 ,0 ,0 ,8 ,0 ,3 ,0 ,0 ,1],\n",
    "        [7 ,0 ,0 ,0 ,2 ,0 ,0 ,0 ,6],\n",
    "        [0 ,6 ,0 ,0 ,0 ,0 ,2 ,8 ,0],\n",
    "        [0 ,0 ,0 ,4 ,1 ,9 ,0 ,0 ,5],\n",
    "        [0 ,0 ,0 ,0 ,8 ,0 ,0 ,7 ,9]]"
   ]
  },
  {
   "attachments": {},
   "cell_type": "markdown",
   "metadata": {},
   "source": [
    "#### Function to take input form a file and save it in a matrix"
   ]
  },
  {
   "cell_type": "code",
   "execution_count": 133,
   "metadata": {},
   "outputs": [],
   "source": [
    "# Taking input from a text file for more tests\n",
    "with open(\"test.txt\") as f:                \n",
    "    lines = f.readlines()\n",
    "\n",
    "def MatrixMaker(lines,index = 1):\n",
    "    to_solve = []\n",
    "    for i, line in enumerate(lines):\n",
    "        if line.split(\" \")[0] == \"Grid\":\n",
    "            if int(line.split(\" \")[1]) == index:\n",
    "                for j in range(i+1,i+10):\n",
    "                    to_solve.append([])\n",
    "                    for char in lines[j][:9]:\n",
    "                        to_solve[-1].append(int(char))\n",
    "    return to_solve\n",
    "\n",
    "        "
   ]
  },
  {
   "attachments": {},
   "cell_type": "markdown",
   "metadata": {},
   "source": [
    "### Code to take input from the kaggle csv file"
   ]
  },
  {
   "cell_type": "code",
   "execution_count": 1,
   "metadata": {},
   "outputs": [],
   "source": [
    "import pandas as pd\n",
    "df_sudoku = pd.read_csv(\"/home/pika/Projects/sudoku_short.csv\")"
   ]
  },
  {
   "attachments": {},
   "cell_type": "markdown",
   "metadata": {},
   "source": [
    "# Solver \n",
    "\n",
    "The program will be using backtracking algorithm to solve the sudoku\n",
    "\n",
    "### Algorithm\n",
    "1. Find the first empty square (Positions filled with zeroes are regarded as empty)\n",
    "2. Now for that sqaure find the approprioate number by naively trying all possibilities from 1-9, checking the horizontal and vertical to verify\n",
    "3. If no number from 1-9 fits the square, backtrack to the last square that was filled and resume trying with other numbers, untill the cell can be filled \n",
    "4. Continue this process till the no empty cell can be found"
   ]
  },
  {
   "attachments": {},
   "cell_type": "markdown",
   "metadata": {},
   "source": [
    "#### Function to find the first empty sqaure in the sudoku"
   ]
  },
  {
   "cell_type": "code",
   "execution_count": 24,
   "metadata": {},
   "outputs": [],
   "source": [
    "# Function that finds the first empty square after a given cell\n",
    "def FindEmpty(sudoku):\n",
    "    for i in range(9):\n",
    "        for j in range(9):\n",
    "            if sudoku[i][j] == 0:\n",
    "                return i,j\n",
    "        \n",
    "    return False"
   ]
  },
  {
   "attachments": {},
   "cell_type": "markdown",
   "metadata": {},
   "source": [
    "#### Function that varifies if a number is suitable for a location given the matrix"
   ]
  },
  {
   "cell_type": "code",
   "execution_count": 25,
   "metadata": {},
   "outputs": [],
   "source": [
    "# Function that verifies if a given number can be used in the given cell position \n",
    "def Verify(sudoku, row,col,n):\n",
    "\n",
    "    # Checking the row for the number\n",
    "    for i in range(9):\n",
    "        if sudoku[row][i] == n or sudoku[i][col] == n:\n",
    "            return False\n",
    "    \n",
    "    # Checking the 3x3 grid for the number\n",
    "    start_row = (row // 3) * 3\n",
    "    start_col = (col // 3) * 3\n",
    "    for i in range(start_row, start_row + 3):\n",
    "        for j in range(start_col, start_col + 3):\n",
    "            if sudoku[i][j] == n:\n",
    "                return False\n",
    "    \n",
    "    return True"
   ]
  },
  {
   "attachments": {},
   "cell_type": "markdown",
   "metadata": {},
   "source": [
    "### Main Sudoku solver function"
   ]
  },
  {
   "cell_type": "code",
   "execution_count": 26,
   "metadata": {},
   "outputs": [],
   "source": [
    "# Function that solves the Sudoku using Backtracking\n",
    "def Solve(sudoku):\n",
    "\n",
    "    if not FindEmpty(sudoku):\n",
    "        return True\n",
    "    \n",
    "    curx,cury = FindEmpty(sudoku)        \n",
    "    \n",
    "    for i in range(1,10):\n",
    "        if Verify(sudoku, curx,cury,i):\n",
    "            sudoku[curx][cury] = i\n",
    "            if Solve(sudoku):\n",
    "                return True\n",
    "            sudoku[curx][cury] = 0\n",
    "\n",
    "    return False"
   ]
  },
  {
   "attachments": {},
   "cell_type": "markdown",
   "metadata": {},
   "source": [
    "### 1. Input taken directly through the notebook"
   ]
  },
  {
   "cell_type": "code",
   "execution_count": 211,
   "metadata": {},
   "outputs": [
    {
     "name": "stdout",
     "output_type": "stream",
     "text": [
      "[5, 3, 4, 6, 7, 8, 9, 1, 2]\n",
      "[6, 7, 2, 1, 9, 5, 3, 4, 8]\n",
      "[1, 9, 8, 3, 4, 2, 5, 6, 7]\n",
      "[8, 5, 9, 7, 6, 1, 4, 2, 3]\n",
      "[4, 2, 6, 8, 5, 3, 7, 9, 1]\n",
      "[7, 1, 3, 9, 2, 4, 8, 5, 6]\n",
      "[9, 6, 1, 5, 3, 7, 2, 8, 4]\n",
      "[2, 8, 7, 4, 1, 9, 6, 3, 5]\n",
      "[3, 4, 5, 2, 8, 6, 1, 7, 9]\n"
     ]
    }
   ],
   "source": [
    "# Printing the Solution\n",
    "if Solve(to_solve):\n",
    "    for row in to_solve:\n",
    "        print(row)"
   ]
  },
  {
   "attachments": {},
   "cell_type": "markdown",
   "metadata": {},
   "source": [
    "### 2. Input taken form the txt file"
   ]
  },
  {
   "cell_type": "code",
   "execution_count": 165,
   "metadata": {},
   "outputs": [],
   "source": [
    "# Printing the result into a file \"Output.txt\"\n",
    "with open('result_of_test.txt', 'w') as file:\n",
    "   for i in range(1,51):\n",
    "      file.write(\"Grid \")\n",
    "      file.write(str(i))\n",
    "      file.write('\\n')\n",
    "      file.write(\"-------------------------------------\\n\")\n",
    "      see = MatrixMaker(lines,i)\n",
    "      Solve(see)\n",
    "      for rows in see:\n",
    "         file.write(\"| \")\n",
    "         for item in rows:\n",
    "            file.write(str(item))\n",
    "            file.write(\" | \")\n",
    "         file.write('\\n')\n",
    "         file.write(\"-------------------------------------\\n\")\n",
    "      file.write('\\n')"
   ]
  },
  {
   "attachments": {},
   "cell_type": "markdown",
   "metadata": {},
   "source": [
    "### 3. Input taken from the kaggle csv file"
   ]
  },
  {
   "cell_type": "code",
   "execution_count": 36,
   "metadata": {},
   "outputs": [],
   "source": [
    "# Cutting the df , so that RAM is saved\n",
    "limit = 5000\n",
    "df = df_sudoku.head(limit)\n",
    "\n",
    "solution = []\n",
    "\n",
    "# Converting the input from kaggle into a matrix , so that it can be solved\n",
    "def MakeKaggleMatrix(i):\n",
    "    to_solve = [[],[],[],[],[],[],[],[],[]]\n",
    "    for j,num in enumerate(df['puzzle'][i]):\n",
    "        to_solve[j//9].append(int(num))\n",
    "    return to_solve\n",
    "\n",
    "# Solving the sudoku and saving that in the same format as kaggle in solutions list\n",
    "for i in range(limit):\n",
    "    case = MakeKaggleMatrix(i)\n",
    "    Solve(case)\n",
    "    solution.append(0)\n",
    "    counter = 80\n",
    "    for rows in case: \n",
    "        for item in rows:\n",
    "            solution[-1] += int(item)* 10**counter\n",
    "            counter -= 1 "
   ]
  },
  {
   "attachments": {},
   "cell_type": "markdown",
   "metadata": {},
   "source": [
    "#### Printing the results of the Kaggle in a separate file"
   ]
  },
  {
   "cell_type": "code",
   "execution_count": 37,
   "metadata": {},
   "outputs": [],
   "source": [
    "with open('result_of_kaggle.txt', 'w') as file:\n",
    "    for i in range(limit):\n",
    "        file.write(str(solution[i]))\n",
    "        file.write('  ->  ')\n",
    "        if solution[i] == int(df['solution'][i]):\n",
    "            file.write(\"CORRECT\")\n",
    "        else:\n",
    "            file.write(\"WRONG\")\n",
    "        file.write('\\n')"
   ]
  }
 ],
 "metadata": {
  "kernelspec": {
   "display_name": "Python 3",
   "language": "python",
   "name": "python3"
  },
  "language_info": {
   "codemirror_mode": {
    "name": "ipython",
    "version": 3
   },
   "file_extension": ".py",
   "mimetype": "text/x-python",
   "name": "python",
   "nbconvert_exporter": "python",
   "pygments_lexer": "ipython3",
   "version": "3.11.3"
  },
  "orig_nbformat": 4
 },
 "nbformat": 4,
 "nbformat_minor": 2
}
