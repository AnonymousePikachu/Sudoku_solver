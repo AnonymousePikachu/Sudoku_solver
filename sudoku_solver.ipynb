{
 "cells": [
  {
   "attachments": {},
   "cell_type": "markdown",
   "metadata": {},
   "source": [
    "## Inputting the sudoku to be solved\n",
    "- Feature to be added -> Make it optional to accept the sudoku to be solved through a txt file in the right format\n",
    "- Make exceptions possible"
   ]
  },
  {
   "cell_type": "code",
   "execution_count": 108,
   "metadata": {},
   "outputs": [],
   "source": [
    "# Defining the Sudoku to be solved\n",
    "to_solve =[[5 ,3 ,0, 0, 7, 0, 0, 0, 0],\n",
    "        [6 ,0 ,0 ,1 ,9 ,5 ,0 ,0 ,0],\n",
    "        [0 ,9 ,8 ,0 ,0 ,0 ,0 ,6 ,0],\n",
    "        [8 ,0 ,0 ,0 ,6 ,0 ,0 ,0 ,3],\n",
    "        [4 ,0 ,0 ,8 ,0 ,3 ,0 ,0 ,1],\n",
    "        [7 ,0 ,0 ,0 ,2 ,0 ,0 ,0 ,6],\n",
    "        [0 ,6 ,0 ,0 ,0 ,0 ,2 ,8 ,0],\n",
    "        [0 ,0 ,0 ,4 ,1 ,9 ,0 ,0 ,5],\n",
    "        [0 ,0 ,0 ,0 ,8 ,0 ,0 ,7 ,9]]"
   ]
  },
  {
   "attachments": {},
   "cell_type": "markdown",
   "metadata": {},
   "source": [
    "#### Function to take input form a file and save it in a matrix"
   ]
  },
  {
   "cell_type": "code",
   "execution_count": 133,
   "metadata": {},
   "outputs": [],
   "source": [
    "# Taking input from a text file for more tests\n",
    "with open(\"test.txt\") as f:                \n",
    "    lines = f.readlines()\n",
    "\n",
    "def MatrixMaker(lines,index = 1):\n",
    "    to_solve = []\n",
    "    for i, line in enumerate(lines):\n",
    "        if line.split(\" \")[0] == \"Grid\":\n",
    "            if int(line.split(\" \")[1]) == index:\n",
    "                for j in range(i+1,i+10):\n",
    "                    to_solve.append([])\n",
    "                    for char in lines[j][:9]:\n",
    "                        to_solve[-1].append(int(char))\n",
    "    return to_solve\n",
    "\n",
    "        "
   ]
  },
  {
   "attachments": {},
   "cell_type": "markdown",
   "metadata": {},
   "source": [
    "# Solver \n",
    "\n",
    "The program will be using backtracking algorithm to solve the sudoku\n",
    "\n",
    "### Algorithm\n",
    "1. Find the first empty square (Positions filled with zeroes are regarded as empty)\n",
    "2. Now for that sqaure find the approprioate number by naively trying all possibilities from 1-9, checking the horizontal and vertical to verify\n",
    "3. If no number from 1-9 fits the square, backtrack to the last square that was filled and resume trying with other numbers, untill the cell can be filled \n",
    "4. Continue this process till the no empty cell can be found"
   ]
  },
  {
   "attachments": {},
   "cell_type": "markdown",
   "metadata": {},
   "source": [
    "#### Function to find the first empty sqaure in the sudoku"
   ]
  },
  {
   "cell_type": "code",
   "execution_count": 109,
   "metadata": {},
   "outputs": [],
   "source": [
    "# Function that finds the first empty square after a given cell\n",
    "def FindEmpty(sudoku):\n",
    "    for i in range(9):\n",
    "        for j in range(9):\n",
    "            if sudoku[i][j] == 0:\n",
    "                return i,j\n",
    "        \n",
    "    return False"
   ]
  },
  {
   "attachments": {},
   "cell_type": "markdown",
   "metadata": {},
   "source": [
    "#### Function that varifies if a number is suitable for a location given the matrix"
   ]
  },
  {
   "cell_type": "code",
   "execution_count": 110,
   "metadata": {},
   "outputs": [],
   "source": [
    "# Function that verifies if a given number can be used in the given cell position \n",
    "def Verify(sudoku, row,col,n):\n",
    "\n",
    "    # Checking the row for the number\n",
    "    for i in range(9):\n",
    "        if sudoku[row][i] == n or sudoku[i][col] == n:\n",
    "            return False\n",
    "    \n",
    "    # Checking the 3x3 grid for the number\n",
    "    start_row = (row // 3) * 3\n",
    "    start_col = (col // 3) * 3\n",
    "    for i in range(start_row, start_row + 3):\n",
    "        for j in range(start_col, start_col + 3):\n",
    "            if sudoku[i][j] == n:\n",
    "                return False\n",
    "    \n",
    "    return True"
   ]
  },
  {
   "attachments": {},
   "cell_type": "markdown",
   "metadata": {},
   "source": [
    "### Main Sudoku solver function"
   ]
  },
  {
   "cell_type": "code",
   "execution_count": 111,
   "metadata": {},
   "outputs": [],
   "source": [
    "# Function that solves the Sudoku using Backtracking\n",
    "def Solve(sudoku):\n",
    "\n",
    "    if not FindEmpty(sudoku):\n",
    "        return True\n",
    "    \n",
    "    curx,cury = FindEmpty(sudoku)        \n",
    "    \n",
    "    for i in range(1,10):\n",
    "        if Verify(sudoku, curx,cury,i):\n",
    "            sudoku[curx][cury] = i\n",
    "            if Solve(sudoku):\n",
    "                return True\n",
    "            sudoku[curx][cury] = 0\n",
    "\n",
    "    return False"
   ]
  },
  {
   "attachments": {},
   "cell_type": "markdown",
   "metadata": {},
   "source": [
    "#### Printing the result in the notebook "
   ]
  },
  {
   "cell_type": "code",
   "execution_count": 131,
   "metadata": {},
   "outputs": [
    {
     "name": "stdout",
     "output_type": "stream",
     "text": [
      "[2, 4, 5, 9, 8, 1, 3, 7, 6]\n",
      "[1, 6, 9, 2, 7, 3, 5, 8, 4]\n",
      "[8, 3, 7, 5, 6, 4, 2, 1, 9]\n",
      "[9, 7, 6, 1, 2, 5, 4, 3, 8]\n",
      "[5, 1, 3, 4, 9, 8, 6, 2, 7]\n",
      "[4, 8, 2, 7, 3, 6, 9, 5, 1]\n",
      "[3, 9, 1, 6, 5, 7, 8, 4, 2]\n",
      "[7, 2, 8, 3, 4, 9, 1, 6, 5]\n",
      "[6, 5, 4, 8, 1, 2, 7, 9, 3]\n"
     ]
    }
   ],
   "source": [
    "# Printing the Solution\n",
    "if Solve(to_solve):\n",
    "    for row in to_solve:\n",
    "        print(row)"
   ]
  },
  {
   "attachments": {},
   "cell_type": "markdown",
   "metadata": {},
   "source": [
    "#### Printing the result of the tests from the file into a different file"
   ]
  },
  {
   "cell_type": "code",
   "execution_count": 165,
   "metadata": {},
   "outputs": [],
   "source": [
    "# Printing the result into a file \"Output.txt\"\n",
    "with open('result_of_test.txt', 'w') as file:\n",
    "   for i in range(1,51):\n",
    "      file.write(\"Grid \")\n",
    "      file.write(str(i))\n",
    "      file.write('\\n')\n",
    "      file.write(\"-------------------------------------\\n\")\n",
    "      see = MatrixMaker(lines,i)\n",
    "      Solve(see)\n",
    "      for rows in see:\n",
    "         file.write(\"| \")\n",
    "         for item in rows:\n",
    "            file.write(str(item))\n",
    "            file.write(\" | \")\n",
    "         file.write('\\n')\n",
    "         file.write(\"-------------------------------------\\n\")\n",
    "      file.write('\\n')"
   ]
  }
 ],
 "metadata": {
  "kernelspec": {
   "display_name": "Python 3",
   "language": "python",
   "name": "python3"
  },
  "language_info": {
   "codemirror_mode": {
    "name": "ipython",
    "version": 3
   },
   "file_extension": ".py",
   "mimetype": "text/x-python",
   "name": "python",
   "nbconvert_exporter": "python",
   "pygments_lexer": "ipython3",
   "version": "3.11.3"
  },
  "orig_nbformat": 4
 },
 "nbformat": 4,
 "nbformat_minor": 2
}
